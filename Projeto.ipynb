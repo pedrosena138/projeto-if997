{
 "cells": [
  {
   "cell_type": "markdown",
   "metadata": {},
   "source": [
    "<img src='images/cin-logo.png' style='width:600px;'>\n",
    "\n",
    "# IF997- TÓPICOS AVANÇADOS EM SI 1\n",
    "## Projeto Incognia\n",
    "\n",
    "### Grupo: Alisson Diego, Guilherme Santiago, Pedro Sena"
   ]
  },
  {
   "cell_type": "markdown",
   "metadata": {},
   "source": [
    "## Base de Dados\n",
    "\n",
    "| coluna                               | tipo   | descrição                                                                                     |\n",
    "|--------------------------------------|--------|-----------------------------------------------------------------------------------------------|\n",
    "| id                                   | string | identificador do login                                                                        |\n",
    "| account_id                           | string | identificador da conta                                                                        |\n",
    "| device_id                            | string | identificador do dispositivo                                                                  |\n",
    "| installation_id                      | string | identificador da instalação                                                                   |\n",
    "| timestamp                            | long   | timestamp (unixtime - em ms)                                                                  |\n",
    "| is_from_official_store               | bool   | se o app utilizado foi instalado através de uma loja oficial                                  |\n",
    "| is_emulator                          | bool   | uso de emulador                                                                               |\n",
    "| has_fake_location_app                | bool   | se o dispositivo possui aplicação de geração localizações falsas                              |\n",
    "| has_fake_location_enable             | bool   | se o dispositivo habilitou geração de localizações falsas                                     |\n",
    "| probable_root                        | bool   | provável root do sistema                                                                      |\n",
    "| device_age_ms                        | long   | idade do dispositivo (em ms)                                                                  |\n",
    "| max_installations_on_related_devices | int    | quantidade máxima de instalações dos dispositivos associados à conta                          |\n",
    "| never_permited_location_on_account   | bool   | se o dispositivo nunca habilitou coleta de localizações, quando outros dispositivos o fizeram |\n",
    "| boot_count                           | int    | quantidade de reinicializações do dispositivo                                                 |\n",
    "| wallpaper_count                      | int    | quantidade de wallpapers do dispositivo                                                       |\n",
    "| n_accounts                           | int    | número de contas acessadas pelo dispositivo                                                   |\n",
    "| ato                                  | bool   | se login está associado a um evento de account takeover                                       |"
   ]
  },
  {
   "cell_type": "code",
   "execution_count": 2,
   "metadata": {},
   "outputs": [
    {
     "name": "stdout",
     "output_type": "stream",
     "text": [
      "Found existing installation: pyarrow 6.0.1\n",
      "Uninstalling pyarrow-6.0.1:\n"
     ]
    },
    {
     "name": "stderr",
     "output_type": "stream",
     "text": [
      "WARNING: Ignoring invalid distribution -ip (c:\\python39\\lib\\site-packages)\n",
      "WARNING: Ignoring invalid distribution - (c:\\python39\\lib\\site-packages)\n",
      "WARNING: Ignoring invalid distribution -ip (c:\\python39\\lib\\site-packages)\n",
      "WARNING: Ignoring invalid distribution - (c:\\python39\\lib\\site-packages)\n",
      "ERROR: Exception:\n",
      "Traceback (most recent call last):\n",
      "  File \"C:\\Python39\\lib\\shutil.py\", line 806, in move\n",
      "    os.rename(src, real_dst)\n",
      "PermissionError: [WinError 5] Acesso negado: 'c:\\\\python39\\\\lib\\\\site-packages\\\\pyarrow\\\\' -> 'C:\\\\Python39\\\\Lib\\\\site-packages\\\\~.arrow'\n",
      "\n",
      "During handling of the above exception, another exception occurred:\n",
      "\n",
      "Traceback (most recent call last):\n",
      "  File \"C:\\Python39\\lib\\site-packages\\pip\\_internal\\cli\\base_command.py\", line 164, in exc_logging_wrapper\n",
      "    status = run_func(*args)\n",
      "  File \"C:\\Python39\\lib\\site-packages\\pip\\_internal\\commands\\uninstall.py\", line 97, in run\n",
      "    uninstall_pathset = req.uninstall(\n",
      "  File \"C:\\Python39\\lib\\site-packages\\pip\\_internal\\req\\req_install.py\", line 671, in uninstall\n",
      "    uninstalled_pathset.remove(auto_confirm, verbose)\n",
      "  File \"C:\\Python39\\lib\\site-packages\\pip\\_internal\\req\\req_uninstall.py\", line 384, in remove\n",
      "    moved.stash(path)\n",
      "  File \"C:\\Python39\\lib\\site-packages\\pip\\_internal\\req\\req_uninstall.py\", line 282, in stash\n",
      "    renames(path, new_path)\n",
      "  File \"C:\\Python39\\lib\\site-packages\\pip\\_internal\\utils\\misc.py\", line 307, in renames\n",
      "    shutil.move(old, new)\n",
      "  File \"C:\\Python39\\lib\\shutil.py\", line 824, in move\n",
      "    rmtree(src)\n",
      "  File \"C:\\Python39\\lib\\shutil.py\", line 740, in rmtree\n",
      "    return _rmtree_unsafe(path, onerror)\n",
      "  File \"C:\\Python39\\lib\\shutil.py\", line 618, in _rmtree_unsafe\n",
      "    onerror(os.unlink, fullname, sys.exc_info())\n",
      "  File \"C:\\Python39\\lib\\shutil.py\", line 616, in _rmtree_unsafe\n",
      "    os.unlink(fullname)\n",
      "PermissionError: [WinError 5] Acesso negado: 'c:\\\\python39\\\\lib\\\\site-packages\\\\pyarrow\\\\arrow.dll'\n"
     ]
    },
    {
     "name": "stdout",
     "output_type": "stream",
     "text": [
      "Collecting pyarrow\n",
      "  Using cached pyarrow-6.0.1-cp39-cp39-win_amd64.whl (15.5 MB)\n",
      "Requirement already satisfied: numpy>=1.16.6 in c:\\python39\\lib\\site-packages (from pyarrow) (1.20.3)\n",
      "Installing collected packages: pyarrow\n"
     ]
    },
    {
     "name": "stderr",
     "output_type": "stream",
     "text": [
      "WARNING: Ignoring invalid distribution -yarrow (c:\\python39\\lib\\site-packages)\n",
      "WARNING: Ignoring invalid distribution -ip (c:\\python39\\lib\\site-packages)\n",
      "WARNING: Ignoring invalid distribution - (c:\\python39\\lib\\site-packages)\n",
      "WARNING: Ignoring invalid distribution -yarrow (c:\\python39\\lib\\site-packages)\n",
      "WARNING: Ignoring invalid distribution -ip (c:\\python39\\lib\\site-packages)\n",
      "WARNING: Ignoring invalid distribution - (c:\\python39\\lib\\site-packages)\n",
      "WARNING: Ignoring invalid distribution -yarrow (c:\\python39\\lib\\site-packages)\n",
      "WARNING: Ignoring invalid distribution -ip (c:\\python39\\lib\\site-packages)\n",
      "WARNING: Ignoring invalid distribution - (c:\\python39\\lib\\site-packages)\n",
      "ERROR: Could not install packages due to an OSError: [WinError 5] Acesso negado: 'C:\\\\Python39\\\\Lib\\\\site-packages\\\\pyarrow\\\\_compute.cp39-win_amd64.pyd'\n",
      "Consider using the `--user` option or check the permissions.\n",
      "\n",
      "WARNING: Ignoring invalid distribution -yarrow (c:\\python39\\lib\\site-packages)\n",
      "WARNING: Ignoring invalid distribution -ip (c:\\python39\\lib\\site-packages)\n",
      "WARNING: Ignoring invalid distribution - (c:\\python39\\lib\\site-packages)\n",
      "WARNING: Ignoring invalid distribution -yarrow (c:\\python39\\lib\\site-packages)\n",
      "WARNING: Ignoring invalid distribution -ip (c:\\python39\\lib\\site-packages)\n",
      "WARNING: Ignoring invalid distribution - (c:\\python39\\lib\\site-packages)\n"
     ]
    }
   ],
   "source": [
    "import pandas as pd \n",
    "import numpy as np\n",
    "import sys\n",
    "!{sys.executable} -m pip uninstall pyarrow --yes\n",
    "!{sys.executable} -m pip install pyarrow"
   ]
  },
  {
   "cell_type": "code",
   "execution_count": 23,
   "metadata": {},
   "outputs": [],
   "source": [
    "def parquetParaCsv(nomeArquivo):\n",
    "    caminho = './dataset/{}{}'.format(nomeArquivo, \".parquet4\")\n",
    "    arquivo = pd.read_parquet(caminho, engine=\"pyarrow\")\n",
    "    nomeArquivo = nomeArquivo.split('.')\n",
    "    #arquivo.to_csv('./dataset/{}.csv'.format(nomeArquivo[0]))\n",
    "    return arquivo\n",
    "\n",
    "\n",
    "def csvParaParquet(caminhoCsv, caminhoParquet):\n",
    "    arquivo = pd.read_csv(caminhoCsv)\n",
    "    #arquivo.to_parquet(caminhoParquet)\n",
    "    return arquivo\n"
   ]
  },
  {
   "cell_type": "code",
   "execution_count": 25,
   "metadata": {},
   "outputs": [],
   "source": [
    "nomeArquivo = 'logins'\n",
    "csv = parquetParaCsv(nomeArquivo)\n",
    "csv.head()"
   ]
  },
  {
   "cell_type": "code",
   "execution_count": null,
   "metadata": {},
   "outputs": [],
   "source": []
  },
  {
   "cell_type": "code",
   "execution_count": 5,
   "metadata": {},
   "outputs": [
    {
     "data": {
      "text/plain": [
       "Unnamed: 0                                    0\n",
       "id                                           42\n",
       "account_id                                   44\n",
       "device_id                                    42\n",
       "installation_id                              44\n",
       "timestamp                                    41\n",
       "is_from_official_store                       43\n",
       "is_emulator                                  44\n",
       "has_fake_location_app                        41\n",
       "has_fake_location_enabled                    46\n",
       "probable_root                                42\n",
       "device_age_ms                                42\n",
       "max_installations_on_related_devices         41\n",
       "never_permitted_location_on_account          42\n",
       "boot_count                              2027822\n",
       "wallpaper_count                         2027851\n",
       "n_accounts                               256726\n",
       "ato                                          40\n",
       "dtype: int64"
      ]
     },
     "execution_count": 5,
     "metadata": {},
     "output_type": "execute_result"
    }
   ],
   "source": [
    "dataframe.isna().sum()"
   ]
  },
  {
   "cell_type": "code",
   "execution_count": 19,
   "metadata": {},
   "outputs": [],
   "source": [
    "#new_dataframe = dataframe.drop('Unnamed: 0', axis=1)\n",
    "new_dataframe = dataframe\n",
    "\n",
    "#int_columns = ['is_from_official_store', 'is_emulator', 'has_fake_location_app',\n",
    " #      'has_fake_location_enabled', 'probable_root',\n",
    "  #     'max_installations_on_related_devices',\n",
    "   #    'never_permitted_location_on_account', 'boot_count', 'wallpaper_count',\n",
    "    #   'n_accounts', 'ato']\n",
    "\n",
    "#new_dataframe[int_columns] = new_dataframe[int_columns].fillna(0).astype('int64')\n",
    "\n",
    "#device_age_mean = new_dataframe['device_age_ms'].mean()\n",
    "#new_dataframe['device_age_ms'].fillna(device_age_mean, inplace=True)\n",
    "\n",
    "#timestamp_mode = new_dataframe['timestamp'].mode()[0]\n",
    "#new_dataframe['timestamp'].fillna(timestamp_mode, inplace=True)"
   ]
  },
  {
   "cell_type": "code",
   "execution_count": 7,
   "metadata": {},
   "outputs": [
    {
     "data": {
      "text/plain": [
       "id                                      42\n",
       "account_id                              44\n",
       "device_id                               42\n",
       "installation_id                         44\n",
       "timestamp                                0\n",
       "is_from_official_store                   0\n",
       "is_emulator                              0\n",
       "has_fake_location_app                    0\n",
       "has_fake_location_enabled                0\n",
       "probable_root                            0\n",
       "device_age_ms                            0\n",
       "max_installations_on_related_devices     0\n",
       "never_permitted_location_on_account      0\n",
       "boot_count                               0\n",
       "wallpaper_count                          0\n",
       "n_accounts                               0\n",
       "ato                                      0\n",
       "dtype: int64"
      ]
     },
     "execution_count": 7,
     "metadata": {},
     "output_type": "execute_result"
    }
   ],
   "source": [
    "new_dataframe.isna().sum()"
   ]
  },
  {
   "cell_type": "code",
   "execution_count": 11,
   "metadata": {},
   "outputs": [],
   "source": [
    "import time\n",
    "def limparBd (df):\n",
    "    print(\"Tamanho inicial: \" + str(len(df)))\n",
    "    inicio = time.time()\n",
    "    colunas = df.columns\n",
    "    cont = 0\n",
    "    indices = []\n",
    "    dados = df.to_numpy()\n",
    "    \n",
    "    for linha in dados:\n",
    "        if (linhaCorreta(linha) == False):\n",
    "            indices.append(cont)\n",
    "        cont += 1\n",
    "    dados = np.delete(dados, indices, axis=0)\n",
    "    df = pd.DataFrame(dados, columns=colunas)\n",
    "    print(\"Qtd linhas inválidas: \" + str(len(indices)))\n",
    "    print(\"Tamanho final: \" + str(len(df)))    \n",
    "    print(\"Demorou: \" + str(time.time() - inicio) + \" segundos\")\n",
    "    df.to_parquet(\"teste.parquet4\")\n",
    "\n",
    "def stringValida(valores):\n",
    "    for valor in valores:\n",
    "        if valor == \"\" or valor == None:\n",
    "            return False\n",
    "    return True\n",
    "\n",
    "def booleanValido(valores):\n",
    "    for valor in valores:\n",
    "        if valor != 1 and valor != 0:\n",
    "            return False\n",
    "    return True\n",
    "\n",
    "def linhaCorreta(linha):\n",
    "    verificarStrings = [linha[0], linha[1], linha[2], linha[3]]\n",
    "    if not stringValida(verificarStrings):\n",
    "        return False\n",
    "    \n",
    "    verificarBoolean = [linha[5], linha[6], linha[7], linha[8], linha[9], linha[12], linha[16]]\n",
    "    if not booleanValido(verificarBoolean):\n",
    "        return False\n",
    "    \n",
    "    return True\n",
    "\n",
    "\n",
    "#null_ids_list = np.where(new_dataframe['id'].isnull())\n",
    "#for id in null_ids_list:\n",
    "  #new_dataframe = new_dataframe.drop(id)\n",
    "#print(len(new_dataframe))\n",
    "# ids_list = np.where(new_dataframe['installation_id'].isnull())\n",
    "# for id in ids_list:\n",
    "#   new_dataframe = new_dataframe.drop(id)\n",
    "\n",
    "# for id in np.where(new_dataframe['account_id '].isnull()):\n",
    "#   new_dataframe = new_dataframe.drop(id)"
   ]
  },
  {
   "cell_type": "code",
   "execution_count": 20,
   "metadata": {},
   "outputs": [
    {
     "name": "stdout",
     "output_type": "stream",
     "text": [
      "Tamanho inicial: 5418786\n",
      "Qtd linhas inválidas: 5418786\n",
      "Tamanho final: 0\n",
      "Demorou: 37.48999905586243 segundos\n",
      "(array([   3646,   33118,   90729,  140973,  338793,  393318,  451662,\n",
      "        455343,  599539,  984842, 1079201, 1083716, 1130411, 1198188,\n",
      "       1384810, 1438232, 1565014, 1625249, 1838107, 2258061, 2545317,\n",
      "       2561809, 2581577, 2674414, 2979227, 3036312, 3116549, 3323725,\n",
      "       3345693, 3360472, 3364243, 3440848, 3508958, 3666594, 3813442,\n",
      "       4076461, 4175170, 4536956, 4565316, 4754690, 4991753, 5246178,\n",
      "       5330761, 5377420], dtype=int64),)\n",
      "(array([   3646,   33118,   90729,  140973,  361781,  393318,  451662,\n",
      "        455343,  599539,  984842, 1079201, 1083716, 1130411, 1198188,\n",
      "       1384810, 1438232, 1565014, 1625249, 1838107, 2561809, 2581577,\n",
      "       2674414, 3036312, 3116549, 3323725, 3345693, 3360472, 3364243,\n",
      "       3440848, 3508958, 3666594, 3813442, 4076461, 4175170, 4218970,\n",
      "       4536956, 4565316, 4754690, 4991753, 5246178, 5330761, 5377420],\n",
      "      dtype=int64),)\n",
      "(array([   3646,   33118,   90729,  140973,  393318,  451662,  455343,\n",
      "        599539,  984842, 1079201, 1083716, 1130411, 1198188, 1384810,\n",
      "       1438232, 1565014, 1625249, 1838107, 2003526, 2561809, 2581577,\n",
      "       2674414, 3036312, 3116549, 3323725, 3345693, 3360472, 3364243,\n",
      "       3440848, 3508958, 3666594, 3813442, 4076461, 4175170, 4536956,\n",
      "       4565316, 4686932, 4727487, 4754690, 4964379, 4991753, 5246178,\n",
      "       5330761, 5377420], dtype=int64),)\n",
      "5418786\n"
     ]
    }
   ],
   "source": [
    "limparBd(new_dataframe)\n",
    "print(np.where(new_dataframe['account_id'].isnull()))\n",
    "print(np.where(new_dataframe['device_id'].isnull()))\n",
    "print(np.where(new_dataframe['installation_id'].isnull()))\n",
    "print(len(new_dataframe))"
   ]
  }
 ],
 "metadata": {
  "kernelspec": {
   "display_name": "Python 3",
   "language": "python",
   "name": "python3"
  },
  "language_info": {
   "codemirror_mode": {
    "name": "ipython",
    "version": 3
   },
   "file_extension": ".py",
   "mimetype": "text/x-python",
   "name": "python",
   "nbconvert_exporter": "python",
   "pygments_lexer": "ipython3",
   "version": "3.9.4"
  }
 },
 "nbformat": 4,
 "nbformat_minor": 4
}
