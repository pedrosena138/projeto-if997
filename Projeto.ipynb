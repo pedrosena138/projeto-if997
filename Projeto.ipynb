{
 "cells": [
  {
   "cell_type": "code",
   "execution_count": 8,
   "metadata": {},
   "outputs": [
    {
     "name": "stdout",
     "output_type": "stream",
     "text": [
      "Found existing installation: pyarrow 6.0.1\n",
      "Uninstalling pyarrow-6.0.1:\n",
      "  Successfully uninstalled pyarrow-6.0.1\n",
      "Collecting pyarrow\n",
      "  Using cached pyarrow-6.0.1-cp38-cp38-win_amd64.whl (15.5 MB)\n",
      "Requirement already satisfied: numpy>=1.16.6 in c:\\users\\pedro\\anaconda3\\lib\\site-packages (from pyarrow) (1.19.2)\n",
      "Installing collected packages: pyarrow\n",
      "Successfully installed pyarrow-6.0.1\n"
     ]
    }
   ],
   "source": [
    "import pandas as pd \n",
    "import numpy as np\n",
    "import sys\n",
    "!{sys.executable} -m pip uninstall pyarrow --yes\n",
    "!{sys.executable} -m pip install pyarrow"
   ]
  },
  {
   "cell_type": "code",
   "execution_count": 11,
   "metadata": {},
   "outputs": [],
   "source": [
    "def convertParquetToCsv(filename: str):\n",
    "  path = './dataset/{}'.format(filename)\n",
    "  file = pd.read_parquet(path, engine=\"pyarrow\")\n",
    "  filename = filename.split('.')\n",
    "  file.to_csv('./dataset/{}.csv'.format(filename[0]))\n",
    "\n",
    "\n",
    "def convertCsvToParquet(filepath: str, parquetPath: str):\n",
    "    file = pd.read_csv(filepath)\n",
    "    file.to_parquet(parquetPath)"
   ]
  },
  {
   "cell_type": "code",
   "execution_count": 12,
   "metadata": {},
   "outputs": [],
   "source": [
    "convertParquetToCsv('logins.parquet4')\n",
    "df = pd.read_csv('./dataset/logins.csv')\n",
    "print(df.head())"
   ]
  }
 ],
 "metadata": {
  "kernelspec": {
   "display_name": "Python 3",
   "language": "python",
   "name": "python3"
  },
  "language_info": {
   "codemirror_mode": {
    "name": "ipython",
    "version": 3
   },
   "file_extension": ".py",
   "mimetype": "text/x-python",
   "name": "python",
   "nbconvert_exporter": "python",
   "pygments_lexer": "ipython3",
   "version": "3.8.5"
  }
 },
 "nbformat": 4,
 "nbformat_minor": 4
}
