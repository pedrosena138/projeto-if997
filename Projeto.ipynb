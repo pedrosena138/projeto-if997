{
 "cells": [
  {
   "cell_type": "code",
   "execution_count": 14,
   "metadata": {},
   "outputs": [
    {
     "name": "stdout",
     "output_type": "stream",
     "text": [
      "Found existing installation: pyarrow 6.0.1\n",
      "Uninstalling pyarrow-6.0.1:\n",
      "  Successfully uninstalled pyarrow-6.0.1\n",
      "Collecting pyarrow\n",
      "  Using cached pyarrow-6.0.1-cp38-cp38-win_amd64.whl (15.5 MB)\n",
      "Requirement already satisfied: numpy>=1.16.6 in c:\\users\\pedro\\anaconda3\\lib\\site-packages (from pyarrow) (1.19.2)\n",
      "Installing collected packages: pyarrow\n",
      "Successfully installed pyarrow-6.0.1\n"
     ]
    }
   ],
   "source": [
    "import pandas as pd \n",
    "import numpy as np\n",
    "import sys\n",
    "!{sys.executable} -m pip uninstall pyarrow --yes\n",
    "!{sys.executable} -m pip install pyarrow"
   ]
  },
  {
   "cell_type": "code",
   "execution_count": 16,
   "metadata": {},
   "outputs": [],
   "source": [
    "def convertParquetToCsv(filename: str):\n",
    "  file = pd.read_parquet('./dataset/{}.parquet4'.format(filename), engine=\"pyarrow\")\n",
    "  file.to_csv('./dataset/{}.csv'.format(filename))\n",
    "\n",
    "def convertCsvToParquet(filename: str):\n",
    "  file = pd.read_csv('./dataset/{}.csv'.format(filename))\n",
    "  file.to_parquet('./dataset/{}.parquet4'.format(filename))"
   ]
  },
  {
   "cell_type": "code",
   "execution_count": 12,
   "metadata": {},
   "outputs": [
    {
     "name": "stdout",
     "output_type": "stream",
     "text": [
      "   Unnamed: 0            id        account_id         device_id  \\\n",
      "0           0  7.997403e+11  YgXAhVgdDLsozwto  fGb574abkmDJTQ6M   \n",
      "1           1  7.997403e+11  bO+gPxgfZG9sXtCb  Xll03k9l/OL2r6LM   \n",
      "2           2  7.997403e+11  9mEBGcdz+RLzRNB4  qoKjqPhxqyALMsQ5   \n",
      "3           3  7.997403e+11  tghz/Mlz069esl03  5fqsAP5QUp1M3PLC   \n",
      "4           4  7.997403e+11  9mEBGcdz+RLzRNB4  qoKjqPhxqyALMsQ5   \n",
      "\n",
      "    installation_id     timestamp  is_from_official_store  is_emulator  \\\n",
      "0  Uv9PEQZEwsW8nLOj  1.621290e+12                     1.0          0.0   \n",
      "1  pR7skP90RuM3oqhK  1.620309e+12                     1.0          0.0   \n",
      "2  hzKrODiR6F0jG4rH  1.625228e+12                     1.0          0.0   \n",
      "3  krWwUuXbmBEP9g38  1.624645e+12                     1.0          0.0   \n",
      "4  hzKrODiR6F0jG4rH  1.619907e+12                     1.0          0.0   \n",
      "\n",
      "   has_fake_location_app  has_fake_location_enabled  probable_root  \\\n",
      "0                    0.0                        0.0            0.0   \n",
      "1                    0.0                        0.0            0.0   \n",
      "2                    0.0                        0.0            0.0   \n",
      "3                    0.0                        0.0            0.0   \n",
      "4                    0.0                        0.0            0.0   \n",
      "\n",
      "   device_age_ms  max_installations_on_related_devices  \\\n",
      "0   1.407468e+09                                   1.0   \n",
      "1   1.622747e+10                                   2.0   \n",
      "2   2.865500e+10                                   2.0   \n",
      "3   2.484419e+10                                   3.0   \n",
      "4   2.334158e+10                                   2.0   \n",
      "\n",
      "   never_permitted_location_on_account  boot_count  wallpaper_count  \\\n",
      "0                                  0.0       129.0             28.0   \n",
      "1                                  0.0       131.0            224.0   \n",
      "2                                  0.0       179.0              6.0   \n",
      "3                                  0.0        38.0             11.0   \n",
      "4                                  0.0         NaN              NaN   \n",
      "\n",
      "   n_accounts  ato  \n",
      "0         1.0  0.0  \n",
      "1         1.0  0.0  \n",
      "2         1.0  0.0  \n",
      "3         1.0  0.0  \n",
      "4         1.0  0.0  \n"
     ]
    }
   ],
   "source": [
    "filename = 'logins'\n",
    "convertParquetToCsv('{}.parquet4'.format(filename))\n",
    "df = pd.read_csv('./dataset/{}.csv'.format(filename))\n",
    "print(df.head())"
   ]
  }
 ],
 "metadata": {
  "kernelspec": {
   "display_name": "Python 3",
   "language": "python",
   "name": "python3"
  },
  "language_info": {
   "codemirror_mode": {
    "name": "ipython",
    "version": 3
   },
   "file_extension": ".py",
   "mimetype": "text/x-python",
   "name": "python",
   "nbconvert_exporter": "python",
   "pygments_lexer": "ipython3",
   "version": "3.8.5"
  }
 },
 "nbformat": 4,
 "nbformat_minor": 4
}
