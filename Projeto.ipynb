{
 "cells": [
  {
   "cell_type": "markdown",
   "metadata": {},
   "source": [
    "<img src='images/cin-logo.png' style='width:600px;'>\n",
    "\n",
    "# IF997- TÓPICOS AVANÇADOS EM SI 1\n",
    "## Projeto Incognia\n",
    "\n",
    "### Grupo: Alisson Diego, Guilherme Santiago, Pedro Sena"
   ]
  },
  {
   "cell_type": "markdown",
   "metadata": {},
   "source": [
    "## Base de Dados\n",
    "\n",
    "| coluna                               | tipo   | descrição                                                                                     |\n",
    "|--------------------------------------|--------|-----------------------------------------------------------------------------------------------|\n",
    "| id                                   | string | identificador do login                                                                        |\n",
    "| account_id                           | string | identificador da conta                                                                        |\n",
    "| device_id                            | string | identificador do dispositivo                                                                  |\n",
    "| installation_id                      | string | identificador da instalação                                                                   |\n",
    "| timestamp                            | long   | timestamp (unixtime - em ms)                                                                  |\n",
    "| is_from_official_store               | bool   | se o app utilizado foi instalado através de uma loja oficial                                  |\n",
    "| is_emulator                          | bool   | uso de emulador                                                                               |\n",
    "| has_fake_location_app                | bool   | se o dispositivo possui aplicação de geração localizações falsas                              |\n",
    "| has_fake_location_enable             | bool   | se o dispositivo habilitou geração de localizações falsas                                     |\n",
    "| probable_root                        | bool   | provável root do sistema                                                                      |\n",
    "| device_age_ms                        | long   | idade do dispositivo (em ms)                                                                  |\n",
    "| max_installations_on_related_devices | int    | quantidade máxima de instalações dos dispositivos associados à conta                          |\n",
    "| never_permited_location_on_account   | bool   | se o dispositivo nunca habilitou coleta de localizações, quando outros dispositivos o fizeram |\n",
    "| boot_count                           | int    | quantidade de reinicializações do dispositivo                                                 |\n",
    "| wallpaper_count                      | int    | quantidade de wallpapers do dispositivo                                                       |\n",
    "| n_accounts                           | int    | número de contas acessadas pelo dispositivo                                                   |\n",
    "| ato                                  | bool   | se login está associado a um evento de account takeover                                       |"
   ]
  },
  {
   "cell_type": "code",
   "execution_count": 1,
   "metadata": {},
   "outputs": [
    {
     "name": "stderr",
     "output_type": "stream",
     "text": [
      "WARNING: Ignoring invalid distribution -yarrow (c:\\python39\\lib\\site-packages)\n",
      "WARNING: Ignoring invalid distribution -ip (c:\\python39\\lib\\site-packages)\n",
      "WARNING: Ignoring invalid distribution - (c:\\python39\\lib\\site-packages)\n",
      "WARNING: Ignoring invalid distribution -yarrow (c:\\python39\\lib\\site-packages)\n",
      "WARNING: Ignoring invalid distribution -ip (c:\\python39\\lib\\site-packages)\n",
      "WARNING: Ignoring invalid distribution - (c:\\python39\\lib\\site-packages)\n",
      "WARNING: Skipping pyarrow as it is not installed.\n"
     ]
    },
    {
     "name": "stdout",
     "output_type": "stream",
     "text": [
      "Collecting pyarrow\n",
      "  Using cached pyarrow-6.0.1-cp39-cp39-win_amd64.whl (15.5 MB)\n",
      "Requirement already satisfied: numpy>=1.16.6 in c:\\python39\\lib\\site-packages (from pyarrow) (1.20.3)\n",
      "Installing collected packages: pyarrow\n"
     ]
    },
    {
     "name": "stderr",
     "output_type": "stream",
     "text": [
      "WARNING: Ignoring invalid distribution -yarrow (c:\\python39\\lib\\site-packages)\n",
      "WARNING: Ignoring invalid distribution -ip (c:\\python39\\lib\\site-packages)\n",
      "WARNING: Ignoring invalid distribution - (c:\\python39\\lib\\site-packages)\n",
      "WARNING: Ignoring invalid distribution -yarrow (c:\\python39\\lib\\site-packages)\n",
      "WARNING: Ignoring invalid distribution -ip (c:\\python39\\lib\\site-packages)\n",
      "WARNING: Ignoring invalid distribution - (c:\\python39\\lib\\site-packages)\n",
      "WARNING: Ignoring invalid distribution -yarrow (c:\\python39\\lib\\site-packages)\n",
      "WARNING: Ignoring invalid distribution -ip (c:\\python39\\lib\\site-packages)\n",
      "WARNING: Ignoring invalid distribution - (c:\\python39\\lib\\site-packages)\n",
      "ERROR: Could not install packages due to an OSError: [WinError 5] Acesso negado: 'C:\\\\Python39\\\\Lib\\\\site-packages\\\\pyarrow\\\\_compute.cp39-win_amd64.pyd'\n",
      "Consider using the `--user` option or check the permissions.\n",
      "\n",
      "WARNING: Ignoring invalid distribution -yarrow (c:\\python39\\lib\\site-packages)\n",
      "WARNING: Ignoring invalid distribution -ip (c:\\python39\\lib\\site-packages)\n",
      "WARNING: Ignoring invalid distribution - (c:\\python39\\lib\\site-packages)\n",
      "WARNING: Ignoring invalid distribution -yarrow (c:\\python39\\lib\\site-packages)\n",
      "WARNING: Ignoring invalid distribution -ip (c:\\python39\\lib\\site-packages)\n",
      "WARNING: Ignoring invalid distribution - (c:\\python39\\lib\\site-packages)\n"
     ]
    }
   ],
   "source": [
    "import pandas as pd \n",
    "import numpy as np\n",
    "import sys\n",
    "!{sys.executable} -m pip uninstall pyarrow --yes\n",
    "!{sys.executable} -m pip install pyarrow"
   ]
  },
  {
   "cell_type": "code",
   "execution_count": 2,
   "metadata": {},
   "outputs": [],
   "source": [
    "def parquetParaCsv(nomeArquivo):\n",
    "    caminho = './dataset/{}{}'.format(nomeArquivo, \".parquet4\")\n",
    "    arquivo = pd.read_parquet(caminho, engine=\"pyarrow\")\n",
    "    nomeArquivo = nomeArquivo.split('.')\n",
    "    #arquivo.to_csv('./dataset/{}.csv'.format(nomeArquivo[0]))\n",
    "    return arquivo\n",
    "\n",
    "\n",
    "def csvParaParquet(caminhoCsv, caminhoParquet):\n",
    "    arquivo = pd.read_csv(caminhoCsv)\n",
    "    #arquivo.to_parquet(caminhoParquet)\n",
    "    return arquivo\n"
   ]
  },
  {
   "cell_type": "code",
   "execution_count": 3,
   "metadata": {},
   "outputs": [
    {
     "data": {
      "text/html": [
       "<div>\n",
       "<style scoped>\n",
       "    .dataframe tbody tr th:only-of-type {\n",
       "        vertical-align: middle;\n",
       "    }\n",
       "\n",
       "    .dataframe tbody tr th {\n",
       "        vertical-align: top;\n",
       "    }\n",
       "\n",
       "    .dataframe thead th {\n",
       "        text-align: right;\n",
       "    }\n",
       "</style>\n",
       "<table border=\"1\" class=\"dataframe\">\n",
       "  <thead>\n",
       "    <tr style=\"text-align: right;\">\n",
       "      <th></th>\n",
       "      <th>id</th>\n",
       "      <th>account_id</th>\n",
       "      <th>device_id</th>\n",
       "      <th>installation_id</th>\n",
       "      <th>timestamp</th>\n",
       "      <th>is_from_official_store</th>\n",
       "      <th>is_emulator</th>\n",
       "      <th>has_fake_location_app</th>\n",
       "      <th>has_fake_location_enabled</th>\n",
       "      <th>probable_root</th>\n",
       "      <th>device_age_ms</th>\n",
       "      <th>max_installations_on_related_devices</th>\n",
       "      <th>never_permitted_location_on_account</th>\n",
       "      <th>boot_count</th>\n",
       "      <th>wallpaper_count</th>\n",
       "      <th>n_accounts</th>\n",
       "      <th>ato</th>\n",
       "    </tr>\n",
       "  </thead>\n",
       "  <tbody>\n",
       "    <tr>\n",
       "      <th>0</th>\n",
       "      <td>799740346458</td>\n",
       "      <td>YgXAhVgdDLsozwto</td>\n",
       "      <td>fGb574abkmDJTQ6M</td>\n",
       "      <td>Uv9PEQZEwsW8nLOj</td>\n",
       "      <td>1.621290e+12</td>\n",
       "      <td>1.0</td>\n",
       "      <td>0.0</td>\n",
       "      <td>0.0</td>\n",
       "      <td>0.0</td>\n",
       "      <td>0.0</td>\n",
       "      <td>1.407468e+09</td>\n",
       "      <td>1.0</td>\n",
       "      <td>0.0</td>\n",
       "      <td>129.0</td>\n",
       "      <td>28.0</td>\n",
       "      <td>1.0</td>\n",
       "      <td>0.0</td>\n",
       "    </tr>\n",
       "    <tr>\n",
       "      <th>1</th>\n",
       "      <td>799740346459</td>\n",
       "      <td>bO+gPxgfZG9sXtCb</td>\n",
       "      <td>Xll03k9l/OL2r6LM</td>\n",
       "      <td>pR7skP90RuM3oqhK</td>\n",
       "      <td>1.620309e+12</td>\n",
       "      <td>1.0</td>\n",
       "      <td>0.0</td>\n",
       "      <td>0.0</td>\n",
       "      <td>0.0</td>\n",
       "      <td>0.0</td>\n",
       "      <td>1.622747e+10</td>\n",
       "      <td>2.0</td>\n",
       "      <td>0.0</td>\n",
       "      <td>131.0</td>\n",
       "      <td>224.0</td>\n",
       "      <td>1.0</td>\n",
       "      <td>0.0</td>\n",
       "    </tr>\n",
       "    <tr>\n",
       "      <th>2</th>\n",
       "      <td>799740346460</td>\n",
       "      <td>9mEBGcdz+RLzRNB4</td>\n",
       "      <td>qoKjqPhxqyALMsQ5</td>\n",
       "      <td>hzKrODiR6F0jG4rH</td>\n",
       "      <td>1.625228e+12</td>\n",
       "      <td>1.0</td>\n",
       "      <td>0.0</td>\n",
       "      <td>0.0</td>\n",
       "      <td>0.0</td>\n",
       "      <td>0.0</td>\n",
       "      <td>2.865500e+10</td>\n",
       "      <td>2.0</td>\n",
       "      <td>0.0</td>\n",
       "      <td>179.0</td>\n",
       "      <td>6.0</td>\n",
       "      <td>1.0</td>\n",
       "      <td>0.0</td>\n",
       "    </tr>\n",
       "    <tr>\n",
       "      <th>3</th>\n",
       "      <td>799740346461</td>\n",
       "      <td>tghz/Mlz069esl03</td>\n",
       "      <td>5fqsAP5QUp1M3PLC</td>\n",
       "      <td>krWwUuXbmBEP9g38</td>\n",
       "      <td>1.624645e+12</td>\n",
       "      <td>1.0</td>\n",
       "      <td>0.0</td>\n",
       "      <td>0.0</td>\n",
       "      <td>0.0</td>\n",
       "      <td>0.0</td>\n",
       "      <td>2.484419e+10</td>\n",
       "      <td>3.0</td>\n",
       "      <td>0.0</td>\n",
       "      <td>38.0</td>\n",
       "      <td>11.0</td>\n",
       "      <td>1.0</td>\n",
       "      <td>0.0</td>\n",
       "    </tr>\n",
       "    <tr>\n",
       "      <th>4</th>\n",
       "      <td>799740346462</td>\n",
       "      <td>9mEBGcdz+RLzRNB4</td>\n",
       "      <td>qoKjqPhxqyALMsQ5</td>\n",
       "      <td>hzKrODiR6F0jG4rH</td>\n",
       "      <td>1.619907e+12</td>\n",
       "      <td>1.0</td>\n",
       "      <td>0.0</td>\n",
       "      <td>0.0</td>\n",
       "      <td>0.0</td>\n",
       "      <td>0.0</td>\n",
       "      <td>2.334158e+10</td>\n",
       "      <td>2.0</td>\n",
       "      <td>0.0</td>\n",
       "      <td>NaN</td>\n",
       "      <td>NaN</td>\n",
       "      <td>1.0</td>\n",
       "      <td>0.0</td>\n",
       "    </tr>\n",
       "  </tbody>\n",
       "</table>\n",
       "</div>"
      ],
      "text/plain": [
       "             id        account_id         device_id   installation_id  \\\n",
       "0  799740346458  YgXAhVgdDLsozwto  fGb574abkmDJTQ6M  Uv9PEQZEwsW8nLOj   \n",
       "1  799740346459  bO+gPxgfZG9sXtCb  Xll03k9l/OL2r6LM  pR7skP90RuM3oqhK   \n",
       "2  799740346460  9mEBGcdz+RLzRNB4  qoKjqPhxqyALMsQ5  hzKrODiR6F0jG4rH   \n",
       "3  799740346461  tghz/Mlz069esl03  5fqsAP5QUp1M3PLC  krWwUuXbmBEP9g38   \n",
       "4  799740346462  9mEBGcdz+RLzRNB4  qoKjqPhxqyALMsQ5  hzKrODiR6F0jG4rH   \n",
       "\n",
       "      timestamp  is_from_official_store  is_emulator  has_fake_location_app  \\\n",
       "0  1.621290e+12                     1.0          0.0                    0.0   \n",
       "1  1.620309e+12                     1.0          0.0                    0.0   \n",
       "2  1.625228e+12                     1.0          0.0                    0.0   \n",
       "3  1.624645e+12                     1.0          0.0                    0.0   \n",
       "4  1.619907e+12                     1.0          0.0                    0.0   \n",
       "\n",
       "   has_fake_location_enabled  probable_root  device_age_ms  \\\n",
       "0                        0.0            0.0   1.407468e+09   \n",
       "1                        0.0            0.0   1.622747e+10   \n",
       "2                        0.0            0.0   2.865500e+10   \n",
       "3                        0.0            0.0   2.484419e+10   \n",
       "4                        0.0            0.0   2.334158e+10   \n",
       "\n",
       "   max_installations_on_related_devices  never_permitted_location_on_account  \\\n",
       "0                                   1.0                                  0.0   \n",
       "1                                   2.0                                  0.0   \n",
       "2                                   2.0                                  0.0   \n",
       "3                                   3.0                                  0.0   \n",
       "4                                   2.0                                  0.0   \n",
       "\n",
       "   boot_count  wallpaper_count  n_accounts  ato  \n",
       "0       129.0             28.0         1.0  0.0  \n",
       "1       131.0            224.0         1.0  0.0  \n",
       "2       179.0              6.0         1.0  0.0  \n",
       "3        38.0             11.0         1.0  0.0  \n",
       "4         NaN              NaN         1.0  0.0  "
      ]
     },
     "execution_count": 3,
     "metadata": {},
     "output_type": "execute_result"
    }
   ],
   "source": [
    "dataframe = pd.read_parquet('./dataset/logins.parquet4')\n",
    "dataframe.head()"
   ]
  },
  {
   "cell_type": "code",
   "execution_count": null,
   "metadata": {},
   "outputs": [],
   "source": []
  },
  {
   "cell_type": "code",
   "execution_count": 4,
   "metadata": {},
   "outputs": [
    {
     "data": {
      "text/plain": [
       "id                                           42\n",
       "account_id                                   44\n",
       "device_id                                    42\n",
       "installation_id                              44\n",
       "timestamp                                    41\n",
       "is_from_official_store                       43\n",
       "is_emulator                                  44\n",
       "has_fake_location_app                        41\n",
       "has_fake_location_enabled                    46\n",
       "probable_root                                42\n",
       "device_age_ms                                42\n",
       "max_installations_on_related_devices         41\n",
       "never_permitted_location_on_account          42\n",
       "boot_count                              2027822\n",
       "wallpaper_count                         2027851\n",
       "n_accounts                               256726\n",
       "ato                                          40\n",
       "dtype: int64"
      ]
     },
     "execution_count": 4,
     "metadata": {},
     "output_type": "execute_result"
    }
   ],
   "source": [
    "dataframe.isna().sum()"
   ]
  },
  {
   "cell_type": "code",
   "execution_count": 36,
   "metadata": {},
   "outputs": [],
   "source": [
    "#new_dataframe = dataframe.drop('Unnamed: 0', axis=1)\n",
    "new_dataframe = dataframe\n",
    "\n",
    "#int_columns = ['is_from_official_store', 'is_emulator', 'has_fake_location_app',\n",
    " #      'has_fake_location_enabled', 'probable_root',\n",
    "  #     'max_installations_on_related_devices',\n",
    "   #    'never_permitted_location_on_account', 'boot_count', 'wallpaper_count',\n",
    "    #   'n_accounts', 'ato']\n",
    "\n",
    "#new_dataframe[int_columns] = new_dataframe[int_columns].fillna(0).astype('int64')\n",
    "\n",
    "#device_age_mean = new_dataframe['device_age_ms'].mean()\n",
    "#new_dataframe['device_age_ms'].fillna(device_age_mean, inplace=True)\n",
    "\n",
    "#timestamp_mode = new_dataframe['timestamp'].mode()[0]\n",
    "#new_dataframe['timestamp'].fillna(timestamp_mode, inplace=True)"
   ]
  },
  {
   "cell_type": "code",
   "execution_count": 6,
   "metadata": {},
   "outputs": [
    {
     "data": {
      "text/plain": [
       "id                                           42\n",
       "account_id                                   44\n",
       "device_id                                    42\n",
       "installation_id                              44\n",
       "timestamp                                    41\n",
       "is_from_official_store                       43\n",
       "is_emulator                                  44\n",
       "has_fake_location_app                        41\n",
       "has_fake_location_enabled                    46\n",
       "probable_root                                42\n",
       "device_age_ms                                42\n",
       "max_installations_on_related_devices         41\n",
       "never_permitted_location_on_account          42\n",
       "boot_count                              2027822\n",
       "wallpaper_count                         2027851\n",
       "n_accounts                               256726\n",
       "ato                                          40\n",
       "dtype: int64"
      ]
     },
     "execution_count": 6,
     "metadata": {},
     "output_type": "execute_result"
    }
   ],
   "source": [
    "new_dataframe.isna().sum()"
   ]
  },
  {
   "cell_type": "code",
   "execution_count": 38,
   "metadata": {},
   "outputs": [],
   "source": [
    "import time\n",
    "def limparBd (df):\n",
    "    print(\"Tamanho inicial: \" + str(len(df)))\n",
    "    inicio = time.time()\n",
    "    colunas = df.columns\n",
    "    cont = 0\n",
    "    indices = []\n",
    "    dados = df.to_numpy()\n",
    "    \n",
    "    for linha in dados:\n",
    "        if not linhaCorreta(linha):\n",
    "            indices.append(cont)\n",
    "        cont += 1\n",
    "    dados = np.delete(dados, indices, axis=0)\n",
    "    df = pd.DataFrame(dados, columns=colunas)\n",
    "    print(\"Qtd linhas inválidas: \" + str(len(indices)))\n",
    "    print(\"Tamanho final: \" + str(len(df)))    \n",
    "    print(\"Demorou: \" + str(time.time() - inicio) + \" segundos\")\n",
    "    df.to_parquet(\"teste.parquet4\")\n",
    "    return df\n",
    "\n",
    "def stringValida(valores):\n",
    "    for valor in valores:\n",
    "        if valor == \"\" or valor == None:\n",
    "            return False\n",
    "    return True\n",
    "\n",
    "def booleanValido(valores):\n",
    "    for valor in valores:\n",
    "        if valor != 1 and valor != 0:\n",
    "            return False\n",
    "    return True\n",
    "\n",
    "def linhaCorreta(linha):\n",
    "    verificarStrings = [linha[0], linha[1], linha[2], linha[3]]\n",
    "    if not stringValida(verificarStrings):\n",
    "        return False\n",
    "    \n",
    "    timestamp = linha[4]\n",
    "    if timestamp is None or type(timestamp) != float:\n",
    "        print(linha)\n",
    "        return False\n",
    "    \n",
    "    verificarBoolean = [linha[5], linha[6], linha[7], linha[8], linha[9], linha[12], linha[16]]\n",
    "    if not booleanValido(verificarBoolean):\n",
    "        return False\n",
    "    \n",
    "    return True\n",
    "\n",
    "\n",
    "#null_ids_list = np.where(new_dataframe['id'].isnull())\n",
    "#for id in null_ids_list:\n",
    "  #new_dataframe = new_dataframe.drop(id)\n",
    "#print(len(new_dataframe))\n",
    "# ids_list = np.where(new_dataframe['installation_id'].isnull())\n",
    "# for id in ids_list:\n",
    "#   new_dataframe = new_dataframe.drop(id)\n",
    "\n",
    "# for id in np.where(new_dataframe['account_id '].isnull()):\n",
    "#   new_dataframe = new_dataframe.drop(id)"
   ]
  },
  {
   "cell_type": "code",
   "execution_count": 39,
   "metadata": {},
   "outputs": [
    {
     "name": "stdout",
     "output_type": "stream",
     "text": [
      "Tamanho inicial: 5418786\n",
      "Qtd linhas inválidas: 329\n",
      "Tamanho final: 5418457\n",
      "Demorou: 31.046228647232056 segundos\n"
     ]
    }
   ],
   "source": [
    "new_dataframe = limparBd(new_dataframe)"
   ]
  },
  {
   "cell_type": "code",
   "execution_count": 40,
   "metadata": {},
   "outputs": [],
   "source": [
    "from datetime import datetime\n",
    "def adicionaData(df):\n",
    "    colunas = df.columns\n",
    "    dados = df.to_numpy()\n",
    "    datas = []\n",
    "    for linha in dados:\n",
    "        timestamp = int(linha[4]/1000)                   \n",
    "        dataHora = datetime.fromtimestamp(timestamp)          \n",
    "        datas.append(dataHora)        \n",
    "    df = pd.DataFrame(dados, columns=colunas) \n",
    "    df[\"date_time\"] = datas \n",
    "    df.to_parquet(\"teste.parquet4\")\n",
    "    return df"
   ]
  },
  {
   "cell_type": "code",
   "execution_count": 41,
   "metadata": {},
   "outputs": [
    {
     "ename": "ValueError",
     "evalue": "cannot convert float NaN to integer",
     "output_type": "error",
     "traceback": [
      "\u001b[1;31m---------------------------------------------------------------------------\u001b[0m",
      "\u001b[1;31mValueError\u001b[0m                                Traceback (most recent call last)",
      "\u001b[1;32m~\\AppData\\Local\\Temp/ipykernel_3284/4024187347.py\u001b[0m in \u001b[0;36m<module>\u001b[1;34m\u001b[0m\n\u001b[1;32m----> 1\u001b[1;33m \u001b[0mnew_dataframe\u001b[0m \u001b[1;33m=\u001b[0m \u001b[0madicionaData\u001b[0m\u001b[1;33m(\u001b[0m\u001b[0mnew_dataframe\u001b[0m\u001b[1;33m)\u001b[0m\u001b[1;33m\u001b[0m\u001b[1;33m\u001b[0m\u001b[0m\n\u001b[0m\u001b[0;32m      2\u001b[0m \u001b[0mnew_dataframe\u001b[0m\u001b[1;33m.\u001b[0m\u001b[0mhead\u001b[0m\u001b[1;33m(\u001b[0m\u001b[1;33m)\u001b[0m\u001b[1;33m\u001b[0m\u001b[1;33m\u001b[0m\u001b[0m\n",
      "\u001b[1;32m~\\AppData\\Local\\Temp/ipykernel_3284/822098510.py\u001b[0m in \u001b[0;36madicionaData\u001b[1;34m(df)\u001b[0m\n\u001b[0;32m      5\u001b[0m     \u001b[0mdatas\u001b[0m \u001b[1;33m=\u001b[0m \u001b[1;33m[\u001b[0m\u001b[1;33m]\u001b[0m\u001b[1;33m\u001b[0m\u001b[1;33m\u001b[0m\u001b[0m\n\u001b[0;32m      6\u001b[0m     \u001b[1;32mfor\u001b[0m \u001b[0mlinha\u001b[0m \u001b[1;32min\u001b[0m \u001b[0mdados\u001b[0m\u001b[1;33m:\u001b[0m\u001b[1;33m\u001b[0m\u001b[1;33m\u001b[0m\u001b[0m\n\u001b[1;32m----> 7\u001b[1;33m         \u001b[0mtimestamp\u001b[0m \u001b[1;33m=\u001b[0m \u001b[0mint\u001b[0m\u001b[1;33m(\u001b[0m\u001b[0mlinha\u001b[0m\u001b[1;33m[\u001b[0m\u001b[1;36m4\u001b[0m\u001b[1;33m]\u001b[0m\u001b[1;33m/\u001b[0m\u001b[1;36m1000\u001b[0m\u001b[1;33m)\u001b[0m\u001b[1;33m\u001b[0m\u001b[1;33m\u001b[0m\u001b[0m\n\u001b[0m\u001b[0;32m      8\u001b[0m         \u001b[0mdataHora\u001b[0m \u001b[1;33m=\u001b[0m \u001b[0mdatetime\u001b[0m\u001b[1;33m.\u001b[0m\u001b[0mfromtimestamp\u001b[0m\u001b[1;33m(\u001b[0m\u001b[0mtimestamp\u001b[0m\u001b[1;33m)\u001b[0m\u001b[1;33m\u001b[0m\u001b[1;33m\u001b[0m\u001b[0m\n\u001b[0;32m      9\u001b[0m         \u001b[0mdatas\u001b[0m\u001b[1;33m.\u001b[0m\u001b[0mappend\u001b[0m\u001b[1;33m(\u001b[0m\u001b[0mdataHora\u001b[0m\u001b[1;33m)\u001b[0m\u001b[1;33m\u001b[0m\u001b[1;33m\u001b[0m\u001b[0m\n",
      "\u001b[1;31mValueError\u001b[0m: cannot convert float NaN to integer"
     ]
    }
   ],
   "source": [
    "new_dataframe = adicionaData(new_dataframe)\n",
    "new_dataframe.head()"
   ]
  }
 ],
 "metadata": {
  "kernelspec": {
   "display_name": "Python 3",
   "language": "python",
   "name": "python3"
  },
  "language_info": {
   "codemirror_mode": {
    "name": "ipython",
    "version": 3
   },
   "file_extension": ".py",
   "mimetype": "text/x-python",
   "name": "python",
   "nbconvert_exporter": "python",
   "pygments_lexer": "ipython3",
   "version": "3.9.4"
  }
 },
 "nbformat": 4,
 "nbformat_minor": 4
}
